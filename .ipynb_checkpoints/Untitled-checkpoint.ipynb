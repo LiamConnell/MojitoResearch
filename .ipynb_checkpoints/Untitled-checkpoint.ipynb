{
 "cells": [
  {
   "cell_type": "code",
   "execution_count": 7,
   "metadata": {
    "collapsed": false
   },
   "outputs": [
    {
     "name": "stdout",
     "output_type": "stream",
     "text": [
      "Populating the interactive namespace from numpy and matplotlib\n"
     ]
    }
   ],
   "source": [
    "%pylab inline"
   ]
  },
  {
   "cell_type": "code",
   "execution_count": 14,
   "metadata": {
    "collapsed": true
   },
   "outputs": [],
   "source": [
    "import pandas as pd\n",
    "from yahoo_finance import Share\n",
    "from datetime import datetime\n",
    "import matplotlib\n",
    "import math"
   ]
  },
  {
   "cell_type": "code",
   "execution_count": 311,
   "metadata": {
    "collapsed": false
   },
   "outputs": [],
   "source": [
    "start, end = '2011-01-01','2015-10-26'\n",
    "\n",
    "def price_data(symbol, start=start, end=end):\n",
    "\tx = pd.DataFrame(Share(symbol).get_historical(start, end))\n",
    "\tx.index = x.Date\n",
    "\treturn x\n",
    "\n",
    "def make_IVTS():\n",
    "\t#start, end = '2014-01-01', '2015-10-20'\n",
    "\tvix = price_data('^VIX', start, end)\n",
    "\tvxv = price_data('^VXV', start, end)\n",
    "\tvix = vix.iloc[::-1]\n",
    "\tvxv = vxv.iloc[::-1]\n",
    "\tvix = vix.convert_objects(convert_numeric=True)\n",
    "\tvxv = vxv.convert_objects(convert_numeric=True)\n",
    "\tvix.index = [datetime.strptime(x, '%Y-%m-%d') for x in vix.Date]\n",
    "\tvxv.index = [datetime.strptime(x, '%Y-%m-%d') for x in vxv.Date]\n",
    "\tIVTS_1d = vix['Close']/vxv['Close']\n",
    "\tIVTS_1d = pd.Series([np.median([IVTS_1d[i], IVTS_1d.shift(1)[i],IVTS_1d.shift(2)[i],IVTS_1d.shift(3)[i],IVTS_1d.shift(4)[i]]) \n",
    "           for i in range(len(IVTS_1d))], index = IVTS_1d.index)\n",
    "\treturn IVTS_1d\n",
    "\n",
    "def get_position():\n",
    "\tIVTS = make_IVTS()\n",
    "\tdf = pd.DataFrame(IVTS)\n",
    "\t    \n",
    "        \n",
    "        \n",
    "\tdef pos(val):\n",
    "\t\tif val > 1.005:\n",
    "\t\t\treturn [-0.10, 0.90]\n",
    "\t\telif val >= 0.97:\n",
    "\t\t\treturn [-0.25, 0.75]\n",
    "\t\telif val >= 0.94:\n",
    "\t\t\treturn [-0.32,0.68]\n",
    "\t\telif val >= 0.91:\n",
    "\t\t\treturn [-0.32, 0.68]\n",
    "\t\telif val < 0.91:\n",
    "\t\t\treturn [-0.60, 0.40]\n",
    "\t\telse:\n",
    "\t\t\treturn [0, 0]\n",
    "        \n",
    "\tdf['pos'] = IVTS.apply(pos)\n",
    "\treturn df['pos'], IVTS\n",
    "\n",
    "\n",
    "def get_rets():\n",
    "\tposition, IVTS = get_position()\n",
    "\tpos1, pos2 = [pd.Series([position[i][0] for i in range(len(position))], index = position.index), \n",
    "                pd.Series([position[i][0] for i in range(len(position))], index = position.index)]\n",
    "\t#start, end = '2014-01-01', '2015-10-20'\n",
    "\tvxx = price_data('VXX', start, end)\n",
    "\tvxz = price_data('VXZ', start, end)\n",
    "\tvxx = vxx.iloc[::-1]\n",
    "\tvxz = vxz.iloc[::-1]\n",
    "\tvxx = vxx.convert_objects(convert_numeric=True)\n",
    "\tvxz = vxz.convert_objects(convert_numeric=True)\n",
    "\tvxx.index = [datetime.strptime(x, '%Y-%m-%d') for x in vxx.Date]\n",
    "\tvxz.index = [datetime.strptime(x, '%Y-%m-%d') for x in vxz.Date]\n",
    "\tvxx['diff'] = vxx['Close'].shift(-1) - vxx['Close']\n",
    "\tvxz['diff'] = vxz['Close'].shift(-1) - vxz['Close']\n",
    "    \n",
    "\tprint(vxx['diff'].tail())\n",
    "\tprint(position.tail())\n",
    "\tprint(len(vxx['diff']))\n",
    "\tprint(len(position))\n",
    "\n",
    "\tdif = vxx['diff'] * pos1 + vxz['diff'] * pos2    \n",
    "\t#dif = pd.Series([vxx['diff'][i] * position[i][0] + vxz['diff'][i] * position[i][1] \n",
    "     #                for i in range(len(position)-1)], index = position.index[:-1])\n",
    "\tper = (vxx['diff'] * pos1 + vxz['diff'] * pos2)/200#(vxx['diff']+vxz['diff'])\n",
    "\treturn dif, per, vxx, IVTS\n",
    "\n",
    "def rets():\n",
    "\tdif, per, vxx, IVTS = get_rets()\n",
    "\tper2 = per+1\n",
    "\treturn per2.product()"
   ]
  },
  {
   "cell_type": "code",
   "execution_count": 312,
   "metadata": {
    "collapsed": false,
    "scrolled": true
   },
   "outputs": [
    {
     "name": "stderr",
     "output_type": "stream",
     "text": [
      "/Users/liamconnell/anaconda/lib/python3.4/site-packages/numpy/lib/function_base.py:3142: RuntimeWarning: Invalid value encountered in median\n",
      "  RuntimeWarning)\n"
     ]
    }
   ],
   "source": [
    "position, IVTS = get_position()"
   ]
  },
  {
   "cell_type": "code",
   "execution_count": 295,
   "metadata": {
    "collapsed": true
   },
   "outputs": [],
   "source": [
    "vix = price_data('^VIX', start, end)\n",
    "vxv = price_data('^VXV', start, end)\n",
    "vix = vix.iloc[::-1]\n",
    "vxv = vxv.iloc[::-1]\n",
    "vix = vix.convert_objects(convert_numeric=True)\n",
    "vxv = vxv.convert_objects(convert_numeric=True)\n",
    "vix.index = [datetime.strptime(x, '%Y-%m-%d') for x in vix.Date]\n",
    "vxv.index = [datetime.strptime(x, '%Y-%m-%d') for x in vxv.Date]"
   ]
  },
  {
   "cell_type": "code",
   "execution_count": 313,
   "metadata": {
    "collapsed": false
   },
   "outputs": [],
   "source": [
    "def get_rets(position, IVTS):\n",
    "\tpos1, pos2 = [pd.Series([position[i][0] for i in range(len(position))], index = position.index), \n",
    "                pd.Series([position[i][1] for i in range(len(position))], index = position.index)]\n",
    "\t#start, end = '2014-01-01', '2015-10-20'\n",
    "\tvxx = price_data('VXX', start, end)\n",
    "\tvxz = price_data('VXZ', start, end)\n",
    "\tvxx = vxx.iloc[::-1]\n",
    "\tvxz = vxz.iloc[::-1]\n",
    "\tvxx = vxx.convert_objects(convert_numeric=True)\n",
    "\tvxz = vxz.convert_objects(convert_numeric=True)\n",
    "\tvxx.index = [datetime.strptime(x, '%Y-%m-%d') for x in vxx.Date]\n",
    "\tvxz.index = [datetime.strptime(x, '%Y-%m-%d') for x in vxz.Date]\n",
    "\tvxx['diff'] = vxx['Close'].shift(-1) - vxx['Close']\n",
    "\tvxz['diff'] = vxz['Close'].shift(-1) - vxz['Close']\n",
    "    \n",
    "\t#print(vxx['diff'].tail())\n",
    "\t#print(position.tail())\n",
    "\t#print(len(vxx['diff']))\n",
    "\t#print(len(position))\n",
    "\n",
    "\tdif = vxx['diff'] * pos1 + vxz['diff'] * pos2    \n",
    "\t#dif = pd.Series([vxx['diff'][i] * position[i][0] + vxz['diff'][i] * position[i][1] \n",
    "     #                for i in range(len(position)-1)], index = position.index[:-1])\n",
    "\tpos1_abs = pos1.abs()\n",
    "\tper = dif/(vxx['Close']*pos1_abs + vxz['Close']*pos2)\n",
    "\treturn dif, per, vxx, vxz, IVTS, position, pos1, pos2"
   ]
  },
  {
   "cell_type": "code",
   "execution_count": 314,
   "metadata": {
    "collapsed": false,
    "scrolled": true
   },
   "outputs": [],
   "source": [
    "dif, per, vxx, vxz, IVTS, position, pos1, pos2 = get_rets(position, IVTS)"
   ]
  },
  {
   "cell_type": "code",
   "execution_count": 315,
   "metadata": {
    "collapsed": false,
    "scrolled": true
   },
   "outputs": [
    {
     "name": "stdout",
     "output_type": "stream",
     "text": [
      "            Adj_Close      Close        Date       High        Low       Open  \\\n",
      "2015-10-12  16.170000  16.170000  2015-10-12  17.809999  16.150000  17.680000   \n",
      "2015-10-13  17.670000  17.670000  2015-10-13  17.700001  16.139999  17.080000   \n",
      "2015-10-14  18.030001  18.030001  2015-10-14  18.780001  17.299999  17.670000   \n",
      "2015-10-15  16.049999  16.049999  2015-10-15  17.850000  16.040001  17.620001   \n",
      "2015-10-16  15.050000  15.050000  2015-10-16  16.860001  15.050000  15.640000   \n",
      "2015-10-19  14.980000  14.980000  2015-10-19  16.230000  14.820000  15.680000   \n",
      "2015-10-20  15.750000  15.750000  2015-10-20  16.340000  14.720000  15.170000   \n",
      "2015-10-21  16.700001  16.700001  2015-10-21  16.700001  14.410000  14.980000   \n",
      "2015-10-22  14.450000  14.450000  2015-10-22  15.920000  14.450000  15.020000   \n",
      "2015-10-23  14.460000  14.460000  2015-10-23  15.120000  13.240000  13.460000   \n",
      "\n",
      "            Symbol  Volume  \n",
      "2015-10-12  %5eVIX       0  \n",
      "2015-10-13  %5eVIX       0  \n",
      "2015-10-14  %5eVIX       0  \n",
      "2015-10-15  %5eVIX       0  \n",
      "2015-10-16  %5eVIX       0  \n",
      "2015-10-19  %5eVIX       0  \n",
      "2015-10-20  %5eVIX       0  \n",
      "2015-10-21  %5eVIX       0  \n",
      "2015-10-22  %5eVIX       0  \n",
      "2015-10-23  %5eVIX       0  \n",
      "            Adj_Close      Close        Date       High        Low       Open  \\\n",
      "2015-10-12  19.260000  19.260000  2015-10-12  20.850000  18.280001  19.350000   \n",
      "2015-10-13  20.500000  20.500000  2015-10-13  20.610001  18.370001  18.870001   \n",
      "2015-10-14  20.809999  20.809999  2015-10-14  21.870001  19.070000  19.540001   \n",
      "2015-10-15  19.430000  19.430000  2015-10-15  21.219999  19.160000  19.420000   \n",
      "2015-10-16  18.670000  18.670000  2015-10-16  20.260000  17.299999  18.040001   \n",
      "2015-10-19  17.860001  17.860001  2015-10-19  18.889999  17.780001  18.170000   \n",
      "2015-10-20  18.600000  18.600000  2015-10-20  18.650000  17.280001  17.469999   \n",
      "2015-10-21  19.459999  19.459999  2015-10-21  19.559999  17.100000  17.330000   \n",
      "2015-10-22  17.160000  17.160000  2015-10-22  18.360001  17.160000  17.730000   \n",
      "2015-10-23  17.480000  17.480000  2015-10-23  17.870001  16.240000  16.469999   \n",
      "\n",
      "            Symbol  Volume  \n",
      "2015-10-12  %5eVXV       0  \n",
      "2015-10-13  %5eVXV       0  \n",
      "2015-10-14  %5eVXV       0  \n",
      "2015-10-15  %5eVXV       0  \n",
      "2015-10-16  %5eVXV       0  \n",
      "2015-10-19  %5eVXV       0  \n",
      "2015-10-20  %5eVXV       0  \n",
      "2015-10-21  %5eVXV       0  \n",
      "2015-10-22  %5eVXV       0  \n",
      "2015-10-23  %5eVXV       0  \n"
     ]
    }
   ],
   "source": [
    "print(vix.tail(10))\n",
    "print(vxv.tail(10))"
   ]
  },
  {
   "cell_type": "code",
   "execution_count": 316,
   "metadata": {
    "collapsed": false
   },
   "outputs": [
    {
     "name": "stdout",
     "output_type": "stream",
     "text": [
      "2015-10-12   -0.442000\n",
      "2015-10-13   -0.162000\n",
      "2015-10-14    0.658000\n",
      "2015-10-15    0.149999\n",
      "2015-10-16    0.642001\n",
      "2015-10-19   -0.321999\n",
      "2015-10-20   -0.608001\n",
      "2015-10-21    0.873999\n",
      "2015-10-22   -0.117999\n",
      "2015-10-23         NaN\n",
      "dtype: float64\n",
      "2015-10-12   -0.026772\n",
      "2015-10-13   -0.009375\n",
      "2015-10-14    0.037365\n",
      "2015-10-15    0.009102\n",
      "2015-10-16    0.039256\n",
      "2015-10-19   -0.020974\n",
      "2015-10-20   -0.038457\n",
      "2015-10-21    0.052142\n",
      "2015-10-22   -0.007642\n",
      "2015-10-23         NaN\n",
      "dtype: float64\n",
      "            Adj_Close      Close        Date       High        Low       Open  \\\n",
      "2015-10-12  19.990000  19.990000  2015-10-12  21.420000  19.770000  21.209999   \n",
      "2015-10-13  21.000000  21.000000  2015-10-13  21.120001  19.690001  20.410000   \n",
      "2015-10-14  21.410000  21.410000  2015-10-14  21.990000  20.809999  21.240000   \n",
      "2015-10-15  19.920000  19.920000  2015-10-15  21.190001  19.790001  21.010000   \n",
      "2015-10-16  19.690001  19.690001  2015-10-16  20.450001  19.540001  19.559999   \n",
      "2015-10-19  18.320000  18.320000  2015-10-19  19.820000  18.270000  19.750000   \n",
      "2015-10-20  18.969999  18.969999  2015-10-20  19.290001  18.219999  18.500000   \n",
      "2015-10-21  20.270000  20.270000  2015-10-21  20.389999  18.530001  18.760000   \n",
      "2015-10-22  18.440001  18.440001  2015-10-22  19.760000  18.410000  19.750000   \n",
      "2015-10-23  18.629999  18.629999  2015-10-23  19.010000  17.959999  18.000000   \n",
      "\n",
      "           Symbol    Volume      diff  \n",
      "2015-10-12    VXX  47714600  1.010000  \n",
      "2015-10-13    VXX  62425400  0.410000  \n",
      "2015-10-14    VXX  61034700 -1.490000  \n",
      "2015-10-15    VXX  59612100 -0.229999  \n",
      "2015-10-16    VXX  64177600 -1.370001  \n",
      "2015-10-19    VXX  66449600  0.649999  \n",
      "2015-10-20    VXX  63431300  1.300001  \n",
      "2015-10-21    VXX  80238600 -1.829999  \n",
      "2015-10-22    VXX  73160000  0.189998  \n",
      "2015-10-23    VXX  70165700       NaN  \n",
      "            Adj_Close  Close        Date   High    Low   Open Symbol  Volume  \\\n",
      "2015-10-12      11.29  11.29  2015-10-12  11.76  11.26  11.70    VXZ  312100   \n",
      "2015-10-13      11.70  11.70  2015-10-13  11.72  11.22  11.40    VXZ  428700   \n",
      "2015-10-14      11.91  11.91  2015-10-14  12.07  11.64  11.74    VXZ  547400   \n",
      "2015-10-15      11.32  11.32  2015-10-15  11.84  11.29  11.76    VXZ  448800   \n",
      "2015-10-16      11.35  11.35  2015-10-16  11.51  11.24  11.26    VXZ  387800   \n",
      "2015-10-19      10.90  10.90  2015-10-19  11.33  10.89  11.33    VXZ  634400   \n",
      "2015-10-20      11.07  11.07  2015-10-20  11.11  10.78  10.93    VXZ  226100   \n",
      "2015-10-21      11.50  11.50  2015-10-21  11.52  10.98  10.99    VXZ  594000   \n",
      "2015-10-22      10.94  10.94  2015-10-22  11.45  10.91  11.40    VXZ  450700   \n",
      "2015-10-23      10.93  10.93  2015-10-23  10.99  10.69  10.77    VXZ  740400   \n",
      "\n",
      "            diff  \n",
      "2015-10-12  0.41  \n",
      "2015-10-13  0.21  \n",
      "2015-10-14 -0.59  \n",
      "2015-10-15  0.03  \n",
      "2015-10-16 -0.45  \n",
      "2015-10-19  0.17  \n",
      "2015-10-20  0.43  \n",
      "2015-10-21 -0.56  \n",
      "2015-10-22 -0.01  \n",
      "2015-10-23   NaN  \n",
      "2015-10-12    0.867098\n",
      "2015-10-13    0.861951\n",
      "2015-10-14    0.861951\n",
      "2015-10-15    0.860453\n",
      "2015-10-16    0.839564\n",
      "2015-10-19    0.838746\n",
      "2015-10-20    0.838746\n",
      "2015-10-21    0.838746\n",
      "2015-10-22    0.842075\n",
      "2015-10-23    0.842075\n",
      "dtype: float64\n",
      "2015-10-12    [-0.6, 0.4]\n",
      "2015-10-13    [-0.6, 0.4]\n",
      "2015-10-14    [-0.6, 0.4]\n",
      "2015-10-15    [-0.6, 0.4]\n",
      "2015-10-16    [-0.6, 0.4]\n",
      "2015-10-19    [-0.6, 0.4]\n",
      "2015-10-20    [-0.6, 0.4]\n",
      "2015-10-21    [-0.6, 0.4]\n",
      "2015-10-22    [-0.6, 0.4]\n",
      "2015-10-23    [-0.6, 0.4]\n",
      "Name: pos, dtype: object\n"
     ]
    }
   ],
   "source": [
    "print(dif.tail(10))\n",
    "print(per.tail(10))\n",
    "print(vxx.tail(10))\n",
    "print(vxz.tail(10))\n",
    "print(IVTS.tail(10))\n",
    "print(position.tail(10))\n",
    "\n",
    "#.020999 =? -.3*-.05 + .7*-.02"
   ]
  },
  {
   "cell_type": "code",
   "execution_count": null,
   "metadata": {
    "collapsed": true
   },
   "outputs": [],
   "source": []
  },
  {
   "cell_type": "code",
   "execution_count": 317,
   "metadata": {
    "collapsed": false
   },
   "outputs": [
    {
     "data": {
      "text/plain": [
       "2011-01-03         NaN\n",
       "2011-01-04         NaN\n",
       "2011-01-05         NaN\n",
       "2011-01-06         NaN\n",
       "2011-01-07    0.000466\n",
       "dtype: float64"
      ]
     },
     "execution_count": 317,
     "metadata": {},
     "output_type": "execute_result"
    }
   ],
   "source": [
    "per.head()"
   ]
  },
  {
   "cell_type": "code",
   "execution_count": 318,
   "metadata": {
    "collapsed": false
   },
   "outputs": [
    {
     "data": {
      "text/plain": [
       "-0.10952835139565076"
      ]
     },
     "execution_count": 318,
     "metadata": {},
     "output_type": "execute_result"
    }
   ],
   "source": [
    "per2 = per+1\n",
    "per3 = per2.cumprod()\n",
    "per2.product()"
   ]
  },
  {
   "cell_type": "code",
   "execution_count": 319,
   "metadata": {
    "collapsed": false,
    "scrolled": true
   },
   "outputs": [
    {
     "data": {
      "text/plain": [
       "<matplotlib.axes._subplots.AxesSubplot at 0x11050ae80>"
      ]
     },
     "execution_count": 319,
     "metadata": {},
     "output_type": "execute_result"
    },
    {
     "data": {
      "image/png": "[encoded data removed]",
      "text/plain": [
       "<matplotlib.figure.Figure at 0x1104e8b00>"
      ]
     },
     "metadata": {},
     "output_type": "display_data"
    }
   ],
   "source": [
    "per3.plot()"
   ]
  },
  {
   "cell_type": "code",
   "execution_count": 320,
   "metadata": {
    "collapsed": false
   },
   "outputs": [
    {
     "data": {
      "text/plain": [
       "2015-10-19   -0.109098\n",
       "2015-10-20   -0.104902\n",
       "2015-10-21   -0.110372\n",
       "2015-10-22   -0.109528\n",
       "2015-10-23         NaN\n",
       "dtype: float64"
      ]
     },
     "execution_count": 320,
     "metadata": {},
     "output_type": "execute_result"
    }
   ],
   "source": [
    "per3.tail()"
   ]
  },
  {
   "cell_type": "code",
   "execution_count": null,
   "metadata": {
    "collapsed": true
   },
   "outputs": [],
   "source": []
  },
  {
   "cell_type": "code",
   "execution_count": 321,
   "metadata": {
    "collapsed": false
   },
   "outputs": [
    {
     "data": {
      "text/plain": [
       "<matplotlib.axes._subplots.AxesSubplot at 0x11043f438>"
      ]
     },
     "execution_count": 321,
     "metadata": {},
     "output_type": "execute_result"
    },
    {
     "data": {
      "image/png": "[encoded data removed]",
      "text/plain": [
       "<matplotlib.figure.Figure at 0x110425908>"
      ]
     },
     "metadata": {},
     "output_type": "display_data"
    }
   ],
   "source": [
    "cumsum(dif).plot()\n",
    "#vxx.Close.plot()\n",
    "#per3.plot()"
   ]
  },
  {
   "cell_type": "code",
   "execution_count": 322,
   "metadata": {
    "collapsed": false,
    "scrolled": true
   },
   "outputs": [
    {
     "data": {
      "text/plain": [
       "<matplotlib.axes._subplots.AxesSubplot at 0x11043df60>"
      ]
     },
     "execution_count": 322,
     "metadata": {},
     "output_type": "execute_result"
    },
    {
     "data": {
      "image/png": "[encoded data removed]",
      "text/plain": [
       "<matplotlib.figure.Figure at 0x1103fe898>"
      ]
     },
     "metadata": {},
     "output_type": "display_data"
    }
   ],
   "source": [
    "IVTS.plot()\n",
    "pd.Series(1+cumsum(dif)/100).plot()\n",
    "#pd.Series(1+(per)).plot()\n",
    "pd.Series(vxx.Close/100).plot()\n",
    "#vxx.Close.plot()\n",
    "#dif.plot()"
   ]
  },
  {
   "cell_type": "code",
   "execution_count": 323,
   "metadata": {
    "collapsed": false
   },
   "outputs": [
    {
     "data": {
      "text/plain": [
       "<matplotlib.axes._subplots.AxesSubplot at 0x10dcc4f28>"
      ]
     },
     "execution_count": 323,
     "metadata": {},
     "output_type": "execute_result"
    },
    {
     "data": {
      "image/png": "[encoded data removed]",
      "text/plain": [
       "<matplotlib.figure.Figure at 0x1104124a8>"
      ]
     },
     "metadata": {},
     "output_type": "display_data"
    }
   ],
   "source": [
    "vxx.Close.plot()\n",
    "vxz.Close.plot()"
   ]
  },
  {
   "cell_type": "code",
   "execution_count": 297,
   "metadata": {
    "collapsed": false
   },
   "outputs": [
    {
     "data": {
      "text/plain": [
       "<matplotlib.axes._subplots.AxesSubplot at 0x10fb1bd68>"
      ]
     },
     "execution_count": 297,
     "metadata": {},
     "output_type": "execute_result"
    },
    {
     "data": {
      "image/png": "[encoded data removed]",
      "text/plain": [
       "<matplotlib.figure.Figure at 0x10fb27d30>"
      ]
     },
     "metadata": {},
     "output_type": "display_data"
    }
   ],
   "source": [
    "vix.Close.plot()\n",
    "vxv.Close.plot()"
   ]
  },
  {
   "cell_type": "code",
   "execution_count": 120,
   "metadata": {
    "collapsed": true
   },
   "outputs": [
    {
     "data": {
      "text/html": [
       "<div>\n",
       "<table border=\"1\" class=\"dataframe\">\n",
       "  <thead>\n",
       "    <tr style=\"text-align: right;\">\n",
       "      <th></th>\n",
       "      <th>Adj_Close</th>\n",
       "      <th>Close</th>\n",
       "      <th>Date</th>\n",
       "      <th>High</th>\n",
       "      <th>Low</th>\n",
       "      <th>Open</th>\n",
       "      <th>Symbol</th>\n",
       "      <th>Volume</th>\n",
       "      <th>diff</th>\n",
       "    </tr>\n",
       "  </thead>\n",
       "  <tbody>\n",
       "    <tr>\n",
       "      <th>2011-01-03</th>\n",
       "      <td>583.840027</td>\n",
       "      <td>36.490002</td>\n",
       "      <td>2011-01-03</td>\n",
       "      <td>36.910000</td>\n",
       "      <td>36.070000</td>\n",
       "      <td>36.889999</td>\n",
       "      <td>VXX</td>\n",
       "      <td>448300</td>\n",
       "      <td>-0.160000</td>\n",
       "    </tr>\n",
       "    <tr>\n",
       "      <th>2011-01-04</th>\n",
       "      <td>581.280029</td>\n",
       "      <td>36.330002</td>\n",
       "      <td>2011-01-04</td>\n",
       "      <td>37.630001</td>\n",
       "      <td>36.220001</td>\n",
       "      <td>36.430000</td>\n",
       "      <td>VXX</td>\n",
       "      <td>743800</td>\n",
       "      <td>-0.500000</td>\n",
       "    </tr>\n",
       "    <tr>\n",
       "      <th>2011-01-05</th>\n",
       "      <td>573.280029</td>\n",
       "      <td>35.830002</td>\n",
       "      <td>2011-01-05</td>\n",
       "      <td>37.049999</td>\n",
       "      <td>35.580002</td>\n",
       "      <td>36.930000</td>\n",
       "      <td>VXX</td>\n",
       "      <td>609000</td>\n",
       "      <td>0.099998</td>\n",
       "    </tr>\n",
       "    <tr>\n",
       "      <th>2011-01-06</th>\n",
       "      <td>574.880005</td>\n",
       "      <td>35.930000</td>\n",
       "      <td>2011-01-06</td>\n",
       "      <td>36.330002</td>\n",
       "      <td>35.369999</td>\n",
       "      <td>35.639999</td>\n",
       "      <td>VXX</td>\n",
       "      <td>751800</td>\n",
       "      <td>0.119999</td>\n",
       "    </tr>\n",
       "    <tr>\n",
       "      <th>2011-01-07</th>\n",
       "      <td>576.799988</td>\n",
       "      <td>36.049999</td>\n",
       "      <td>2011-01-07</td>\n",
       "      <td>36.990002</td>\n",
       "      <td>35.049999</td>\n",
       "      <td>35.610001</td>\n",
       "      <td>VXX</td>\n",
       "      <td>1092300</td>\n",
       "      <td>-0.049999</td>\n",
       "    </tr>\n",
       "  </tbody>\n",
       "</table>\n",
       "</div>"
      ],
      "text/plain": [
       "             Adj_Close      Close        Date       High        Low  \\\n",
       "2011-01-03  583.840027  36.490002  2011-01-03  36.910000  36.070000   \n",
       "2011-01-04  581.280029  36.330002  2011-01-04  37.630001  36.220001   \n",
       "2011-01-05  573.280029  35.830002  2011-01-05  37.049999  35.580002   \n",
       "2011-01-06  574.880005  35.930000  2011-01-06  36.330002  35.369999   \n",
       "2011-01-07  576.799988  36.049999  2011-01-07  36.990002  35.049999   \n",
       "\n",
       "                 Open Symbol   Volume      diff  \n",
       "2011-01-03  36.889999    VXX   448300 -0.160000  \n",
       "2011-01-04  36.430000    VXX   743800 -0.500000  \n",
       "2011-01-05  36.930000    VXX   609000  0.099998  \n",
       "2011-01-06  35.639999    VXX   751800  0.119999  \n",
       "2011-01-07  35.610001    VXX  1092300 -0.049999  "
      ]
     },
     "execution_count": 120,
     "metadata": {},
     "output_type": "execute_result"
    }
   ],
   "source": [
    "vxx.head()"
   ]
  },
  {
   "cell_type": "code",
   "execution_count": 121,
   "metadata": {
    "collapsed": true
   },
   "outputs": [],
   "source": [
    "import numpy as np"
   ]
  },
  {
   "cell_type": "code",
   "execution_count": 88,
   "metadata": {
    "collapsed": false
   },
   "outputs": [],
   "source": [
    "IVTS_1d = IVTS\n",
    "#IVTS_1d = pd.Series(np.median([IVTS_1d, IVTS_1d.shift(1), IVTS_1d.shift(2),IVTS_1d.shift(3),IVTS_1d.shift(4)]))\n"
   ]
  },
  {
   "cell_type": "code",
   "execution_count": 102,
   "metadata": {
    "collapsed": false
   },
   "outputs": [
    {
     "name": "stderr",
     "output_type": "stream",
     "text": [
      "/Users/liamconnell/anaconda/lib/python3.4/site-packages/numpy/lib/function_base.py:3142: RuntimeWarning: Invalid value encountered in median\n",
      "  RuntimeWarning)\n"
     ]
    },
    {
     "data": {
      "text/html": [
       "<div>\n",
       "<table border=\"1\" class=\"dataframe\">\n",
       "  <thead>\n",
       "    <tr style=\"text-align: right;\">\n",
       "      <th></th>\n",
       "      <th>0</th>\n",
       "    </tr>\n",
       "  </thead>\n",
       "  <tbody>\n",
       "    <tr>\n",
       "      <th>2011-01-03</th>\n",
       "      <td>NaN</td>\n",
       "    </tr>\n",
       "    <tr>\n",
       "      <th>2011-01-04</th>\n",
       "      <td>NaN</td>\n",
       "    </tr>\n",
       "    <tr>\n",
       "      <th>2011-01-05</th>\n",
       "      <td>NaN</td>\n",
       "    </tr>\n",
       "    <tr>\n",
       "      <th>2011-01-06</th>\n",
       "      <td>NaN</td>\n",
       "    </tr>\n",
       "    <tr>\n",
       "      <th>2011-01-07</th>\n",
       "      <td>0.848878</td>\n",
       "    </tr>\n",
       "    <tr>\n",
       "      <th>2011-01-10</th>\n",
       "      <td>0.848878</td>\n",
       "    </tr>\n",
       "    <tr>\n",
       "      <th>2011-01-11</th>\n",
       "      <td>0.848878</td>\n",
       "    </tr>\n",
       "    <tr>\n",
       "      <th>2011-01-12</th>\n",
       "      <td>0.844751</td>\n",
       "    </tr>\n",
       "    <tr>\n",
       "      <th>2011-01-13</th>\n",
       "      <td>0.844751</td>\n",
       "    </tr>\n",
       "    <tr>\n",
       "      <th>2011-01-14</th>\n",
       "      <td>0.844514</td>\n",
       "    </tr>\n",
       "    <tr>\n",
       "      <th>2011-01-18</th>\n",
       "      <td>0.844514</td>\n",
       "    </tr>\n",
       "    <tr>\n",
       "      <th>2011-01-19</th>\n",
       "      <td>0.853646</td>\n",
       "    </tr>\n",
       "    <tr>\n",
       "      <th>2011-01-20</th>\n",
       "      <td>0.863439</td>\n",
       "    </tr>\n",
       "    <tr>\n",
       "      <th>2011-01-21</th>\n",
       "      <td>0.881365</td>\n",
       "    </tr>\n",
       "    <tr>\n",
       "      <th>2011-01-24</th>\n",
       "      <td>0.901430</td>\n",
       "    </tr>\n",
       "    <tr>\n",
       "      <th>2011-01-25</th>\n",
       "      <td>0.904020</td>\n",
       "    </tr>\n",
       "    <tr>\n",
       "      <th>2011-01-26</th>\n",
       "      <td>0.904020</td>\n",
       "    </tr>\n",
       "    <tr>\n",
       "      <th>2011-01-27</th>\n",
       "      <td>0.901430</td>\n",
       "    </tr>\n",
       "    <tr>\n",
       "      <th>2011-01-28</th>\n",
       "      <td>0.901430</td>\n",
       "    </tr>\n",
       "    <tr>\n",
       "      <th>2011-01-31</th>\n",
       "      <td>0.909514</td>\n",
       "    </tr>\n",
       "    <tr>\n",
       "      <th>2011-02-01</th>\n",
       "      <td>0.929362</td>\n",
       "    </tr>\n",
       "    <tr>\n",
       "      <th>2011-02-02</th>\n",
       "      <td>0.929362</td>\n",
       "    </tr>\n",
       "    <tr>\n",
       "      <th>2011-02-03</th>\n",
       "      <td>0.929362</td>\n",
       "    </tr>\n",
       "    <tr>\n",
       "      <th>2011-02-04</th>\n",
       "      <td>0.906234</td>\n",
       "    </tr>\n",
       "    <tr>\n",
       "      <th>2011-02-07</th>\n",
       "      <td>0.891566</td>\n",
       "    </tr>\n",
       "    <tr>\n",
       "      <th>2011-02-08</th>\n",
       "      <td>0.885714</td>\n",
       "    </tr>\n",
       "    <tr>\n",
       "      <th>2011-02-09</th>\n",
       "      <td>0.885714</td>\n",
       "    </tr>\n",
       "    <tr>\n",
       "      <th>2011-02-10</th>\n",
       "      <td>0.888578</td>\n",
       "    </tr>\n",
       "    <tr>\n",
       "      <th>2011-02-11</th>\n",
       "      <td>0.888578</td>\n",
       "    </tr>\n",
       "    <tr>\n",
       "      <th>2011-02-14</th>\n",
       "      <td>0.888578</td>\n",
       "    </tr>\n",
       "    <tr>\n",
       "      <th>...</th>\n",
       "      <td>...</td>\n",
       "    </tr>\n",
       "    <tr>\n",
       "      <th>2013-11-08</th>\n",
       "      <td>0.881750</td>\n",
       "    </tr>\n",
       "    <tr>\n",
       "      <th>2013-11-11</th>\n",
       "      <td>0.881750</td>\n",
       "    </tr>\n",
       "    <tr>\n",
       "      <th>2013-11-12</th>\n",
       "      <td>0.864939</td>\n",
       "    </tr>\n",
       "    <tr>\n",
       "      <th>2013-11-13</th>\n",
       "      <td>0.861559</td>\n",
       "    </tr>\n",
       "    <tr>\n",
       "      <th>2013-11-14</th>\n",
       "      <td>0.850645</td>\n",
       "    </tr>\n",
       "    <tr>\n",
       "      <th>2013-11-15</th>\n",
       "      <td>0.844235</td>\n",
       "    </tr>\n",
       "    <tr>\n",
       "      <th>2013-11-18</th>\n",
       "      <td>0.844235</td>\n",
       "    </tr>\n",
       "    <tr>\n",
       "      <th>2013-11-19</th>\n",
       "      <td>0.844235</td>\n",
       "    </tr>\n",
       "    <tr>\n",
       "      <th>2013-11-20</th>\n",
       "      <td>0.877428</td>\n",
       "    </tr>\n",
       "    <tr>\n",
       "      <th>2013-11-21</th>\n",
       "      <td>0.877428</td>\n",
       "    </tr>\n",
       "    <tr>\n",
       "      <th>2013-11-22</th>\n",
       "      <td>0.877428</td>\n",
       "    </tr>\n",
       "    <tr>\n",
       "      <th>2013-11-25</th>\n",
       "      <td>0.880000</td>\n",
       "    </tr>\n",
       "    <tr>\n",
       "      <th>2013-11-26</th>\n",
       "      <td>0.880412</td>\n",
       "    </tr>\n",
       "    <tr>\n",
       "      <th>2013-11-27</th>\n",
       "      <td>0.880412</td>\n",
       "    </tr>\n",
       "    <tr>\n",
       "      <th>2013-11-29</th>\n",
       "      <td>0.886348</td>\n",
       "    </tr>\n",
       "    <tr>\n",
       "      <th>2013-12-02</th>\n",
       "      <td>0.889041</td>\n",
       "    </tr>\n",
       "    <tr>\n",
       "      <th>2013-12-03</th>\n",
       "      <td>0.911510</td>\n",
       "    </tr>\n",
       "    <tr>\n",
       "      <th>2013-12-04</th>\n",
       "      <td>0.936801</td>\n",
       "    </tr>\n",
       "    <tr>\n",
       "      <th>2013-12-05</th>\n",
       "      <td>0.939316</td>\n",
       "    </tr>\n",
       "    <tr>\n",
       "      <th>2013-12-06</th>\n",
       "      <td>0.939316</td>\n",
       "    </tr>\n",
       "    <tr>\n",
       "      <th>2013-12-09</th>\n",
       "      <td>0.939316</td>\n",
       "    </tr>\n",
       "    <tr>\n",
       "      <th>2013-12-10</th>\n",
       "      <td>0.922408</td>\n",
       "    </tr>\n",
       "    <tr>\n",
       "      <th>2013-12-11</th>\n",
       "      <td>0.922408</td>\n",
       "    </tr>\n",
       "    <tr>\n",
       "      <th>2013-12-12</th>\n",
       "      <td>0.922408</td>\n",
       "    </tr>\n",
       "    <tr>\n",
       "      <th>2013-12-13</th>\n",
       "      <td>0.959975</td>\n",
       "    </tr>\n",
       "    <tr>\n",
       "      <th>2013-12-16</th>\n",
       "      <td>0.964020</td>\n",
       "    </tr>\n",
       "    <tr>\n",
       "      <th>2013-12-17</th>\n",
       "      <td>0.968654</td>\n",
       "    </tr>\n",
       "    <tr>\n",
       "      <th>2013-12-18</th>\n",
       "      <td>0.968654</td>\n",
       "    </tr>\n",
       "    <tr>\n",
       "      <th>2013-12-19</th>\n",
       "      <td>0.968654</td>\n",
       "    </tr>\n",
       "    <tr>\n",
       "      <th>2013-12-20</th>\n",
       "      <td>0.926047</td>\n",
       "    </tr>\n",
       "  </tbody>\n",
       "</table>\n",
       "<p>748 rows × 1 columns</p>\n",
       "</div>"
      ],
      "text/plain": [
       "                   0\n",
       "2011-01-03       NaN\n",
       "2011-01-04       NaN\n",
       "2011-01-05       NaN\n",
       "2011-01-06       NaN\n",
       "2011-01-07  0.848878\n",
       "2011-01-10  0.848878\n",
       "2011-01-11  0.848878\n",
       "2011-01-12  0.844751\n",
       "2011-01-13  0.844751\n",
       "2011-01-14  0.844514\n",
       "2011-01-18  0.844514\n",
       "2011-01-19  0.853646\n",
       "2011-01-20  0.863439\n",
       "2011-01-21  0.881365\n",
       "2011-01-24  0.901430\n",
       "2011-01-25  0.904020\n",
       "2011-01-26  0.904020\n",
       "2011-01-27  0.901430\n",
       "2011-01-28  0.901430\n",
       "2011-01-31  0.909514\n",
       "2011-02-01  0.929362\n",
       "2011-02-02  0.929362\n",
       "2011-02-03  0.929362\n",
       "2011-02-04  0.906234\n",
       "2011-02-07  0.891566\n",
       "2011-02-08  0.885714\n",
       "2011-02-09  0.885714\n",
       "2011-02-10  0.888578\n",
       "2011-02-11  0.888578\n",
       "2011-02-14  0.888578\n",
       "...              ...\n",
       "2013-11-08  0.881750\n",
       "2013-11-11  0.881750\n",
       "2013-11-12  0.864939\n",
       "2013-11-13  0.861559\n",
       "2013-11-14  0.850645\n",
       "2013-11-15  0.844235\n",
       "2013-11-18  0.844235\n",
       "2013-11-19  0.844235\n",
       "2013-11-20  0.877428\n",
       "2013-11-21  0.877428\n",
       "2013-11-22  0.877428\n",
       "2013-11-25  0.880000\n",
       "2013-11-26  0.880412\n",
       "2013-11-27  0.880412\n",
       "2013-11-29  0.886348\n",
       "2013-12-02  0.889041\n",
       "2013-12-03  0.911510\n",
       "2013-12-04  0.936801\n",
       "2013-12-05  0.939316\n",
       "2013-12-06  0.939316\n",
       "2013-12-09  0.939316\n",
       "2013-12-10  0.922408\n",
       "2013-12-11  0.922408\n",
       "2013-12-12  0.922408\n",
       "2013-12-13  0.959975\n",
       "2013-12-16  0.964020\n",
       "2013-12-17  0.968654\n",
       "2013-12-18  0.968654\n",
       "2013-12-19  0.968654\n",
       "2013-12-20  0.926047\n",
       "\n",
       "[748 rows x 1 columns]"
      ]
     },
     "execution_count": 102,
     "metadata": {},
     "output_type": "execute_result"
    }
   ],
   "source": [
    "pd.DataFrame(pd.Series([np.median([IVTS_1d[i], IVTS_1d.shift(1)[i],IVTS_1d.shift(2)[i],IVTS_1d.shift(3)[i],IVTS_1d.shift(4)[i]]) \n",
    "           for i in range(len(IVTS_1d))], index = IVTS_1d.index))"
   ]
  },
  {
   "cell_type": "code",
   "execution_count": null,
   "metadata": {
    "collapsed": true
   },
   "outputs": [],
   "source": []
  }
 ],
 "metadata": {
  "kernelspec": {
   "display_name": "Python 3",
   "language": "python",
   "name": "python3"
  },
  "language_info": {
   "codemirror_mode": {
    "name": "ipython",
    "version": 3
   },
   "file_extension": ".py",
   "mimetype": "text/x-python",
   "name": "python",
   "nbconvert_exporter": "python",
   "pygments_lexer": "ipython3",
   "version": "3.4.3"
  }
 },
 "nbformat": 4,
 "nbformat_minor": 0
}
